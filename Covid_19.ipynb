{
  "nbformat": 4,
  "nbformat_minor": 0,
  "metadata": {
    "colab": {
      "name": "Covid-19.ipynb",
      "provenance": [],
      "authorship_tag": "ABX9TyOeGffEILBJYUv3k9uNDzzm",
      "include_colab_link": true
    },
    "kernelspec": {
      "name": "python3",
      "display_name": "Python 3"
    }
  },
  "cells": [
    {
      "cell_type": "markdown",
      "metadata": {
        "id": "view-in-github",
        "colab_type": "text"
      },
      "source": [
        "<a href=\"https://colab.research.google.com/github/AjaybirRandhawa/Covid-19USA/blob/main/Covid_19.ipynb\" target=\"_parent\"><img src=\"https://colab.research.google.com/assets/colab-badge.svg\" alt=\"Open In Colab\"/></a>"
      ]
    },
    {
      "cell_type": "code",
      "metadata": {
        "colab": {
          "resources": {
            "http://localhost:8080/nbextensions/google.colab/files.js": {
              "data": "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",
              "ok": true,
              "headers": [
                [
                  "content-type",
                  "application/javascript"
                ]
              ],
              "status": 200,
              "status_text": ""
            }
          },
          "base_uri": "https://localhost:8080/",
          "height": 39
        },
        "id": "hV_6V0XktJtn",
        "outputId": "e4519fd7-dc5e-4fc8-ce67-053f96e0fcfa"
      },
      "source": [
        "import pandas as pd\r\n",
        "import numpy as np\r\n",
        "import math\r\n",
        "import random\r\n",
        "import time\r\n",
        "import io\r\n",
        "from sklearn.model_selection import RandomizedSearchCV, train_test_split\r\n",
        "from sklearn.svm import SVR\r\n",
        "from sklearn.metrics import mean_absolute_error, mean_squared_error\r\n",
        "import datetime as dt\r\n",
        "import operator\r\n",
        "%matplotlib inline\r\n",
        "import matplotlib.pyplot as plt\r\n",
        "import matplotlib.colors as mcolors\r\n",
        "from google.colab import files\r\n",
        "uploaded = files.upload()"
      ],
      "execution_count": null,
      "outputs": [
        {
          "output_type": "display_data",
          "data": {
            "text/html": [
              "\n",
              "     <input type=\"file\" id=\"files-598e5058-6fb7-4e73-acaf-f9639d17c23b\" name=\"files[]\" multiple disabled\n",
              "        style=\"border:none\" />\n",
              "     <output id=\"result-598e5058-6fb7-4e73-acaf-f9639d17c23b\">\n",
              "      Upload widget is only available when the cell has been executed in the\n",
              "      current browser session. Please rerun this cell to enable.\n",
              "      </output>\n",
              "      <script src=\"/nbextensions/google.colab/files.js\"></script> "
            ],
            "text/plain": [
              "<IPython.core.display.HTML object>"
            ]
          },
          "metadata": {
            "tags": []
          }
        }
      ]
    },
    {
      "cell_type": "code",
      "metadata": {
        "id": "In2tyUtktSJQ"
      },
      "source": [
        "import io\r\n",
        "confirmed_cases = pd.read_csv(io.BytesIO(uploaded['time_series_covid_19_confirmed.csv']))\r\n",
        "recovered_cases = pd.read_csv(io.BytesIO(uploaded['time_series_covid_19_recovered.csv']))\r\n",
        "deaths_reported = pd.read_csv(io.BytesIO(uploaded['time_series_covid_19_deaths.csv']))\r\n",
        "# Datasets are now stored in a Pandas Dataframe"
      ],
      "execution_count": null,
      "outputs": []
    },
    {
      "cell_type": "code",
      "metadata": {
        "id": "OOnTrWX0uaiC"
      },
      "source": [
        "#Now to check the data stored in it\r\n",
        "confirmed_cases.head()"
      ],
      "execution_count": null,
      "outputs": []
    },
    {
      "cell_type": "code",
      "metadata": {
        "id": "Alv30d9FufWp"
      },
      "source": [
        "recovered_cases.head()"
      ],
      "execution_count": null,
      "outputs": []
    },
    {
      "cell_type": "code",
      "metadata": {
        "id": "dR7ezNiYuhjl"
      },
      "source": [
        "deaths_reported.head()"
      ],
      "execution_count": null,
      "outputs": []
    },
    {
      "cell_type": "code",
      "metadata": {
        "id": "82otEkYmunqS"
      },
      "source": [
        "cols = confirmed_cases.keys()\r\n",
        "cols"
      ],
      "execution_count": null,
      "outputs": []
    },
    {
      "cell_type": "code",
      "metadata": {
        "id": "_pHc2IfmuzE4"
      },
      "source": [
        "#Extract only the dates\r\n",
        "confirmed = confirmed_cases.loc[:, cols[4]:cols[-1]]\r\n",
        "deaths = deaths_reported.loc[:, cols[4]:cols[-1]]\r\n",
        "recoveries = recovered_cases.loc[:, cols[4]:cols[-1]]"
      ],
      "execution_count": null,
      "outputs": []
    },
    {
      "cell_type": "code",
      "metadata": {
        "id": "BBA90Z0kvDkM"
      },
      "source": [
        "confirmed.head()"
      ],
      "execution_count": null,
      "outputs": []
    },
    {
      "cell_type": "code",
      "metadata": {
        "id": "VsczQ-A8veME"
      },
      "source": [
        "#Finding the total cases\r\n",
        "dates = confirmed.keys()\r\n",
        "world_cases = []\r\n",
        "total_deaths = []\r\n",
        "mortality_rates = []\r\n",
        "total_recovered = []\r\n",
        "for i in dates:\r\n",
        "  confirmed_sum = confirmed[i].sum()\r\n",
        "  death_sum = deaths[i].sum()\r\n",
        "  recovered_sum = recoveries[i].sum()\r\n",
        "  world_cases.append(confirmed_sum)\r\n",
        "  total_deaths.append(death_sum)\r\n",
        "  mortality_rates.append(death_sum/confirmed_sum)\r\n",
        "  total_recovered.append(recovered_sum)"
      ],
      "execution_count": null,
      "outputs": []
    },
    {
      "cell_type": "code",
      "metadata": {
        "id": "UfCP0ruTwI_6"
      },
      "source": [
        "confirmed_sum, death_sum, recovered_sum"
      ],
      "execution_count": null,
      "outputs": []
    },
    {
      "cell_type": "code",
      "metadata": {
        "id": "0ysqeziUwoga"
      },
      "source": [
        "#Convert them into a np array\r\n",
        "days_since_start = np.array([i for i in range(len(dates))]).reshape(-1,1)\r\n",
        "world_cases = np.array(world_cases).reshape(-1,1)\r\n",
        "total_deaths = np.array(total_deaths).reshape(-1,1)\r\n",
        "total_recovered = np.array(total_recovered).reshape(-1,1)"
      ],
      "execution_count": null,
      "outputs": []
    },
    {
      "cell_type": "code",
      "metadata": {
        "id": "XydUCaDuxCJD"
      },
      "source": [
        "#Check\r\n",
        "days_since_start"
      ],
      "execution_count": null,
      "outputs": []
    },
    {
      "cell_type": "code",
      "metadata": {
        "id": "78IeVbu5xFN9"
      },
      "source": [
        "#Future Forcasting of 10 days\r\n",
        "future_days = 10\r\n",
        "future_forecast = np.array([i for i in range(len(dates)+future_days)]).reshape(-1,1)\r\n",
        "adjusted_days = future_forecast[:-10]"
      ],
      "execution_count": null,
      "outputs": []
    },
    {
      "cell_type": "code",
      "metadata": {
        "id": "90Vxou7ixcga"
      },
      "source": [
        "future_forecast"
      ],
      "execution_count": null,
      "outputs": []
    },
    {
      "cell_type": "code",
      "metadata": {
        "id": "BUVy0fGBxht1"
      },
      "source": [
        "start = '1/22/2020'\r\n",
        "start_date = dt.datetime.strptime(start, '%m/%d/%Y')\r\n",
        "future_forecast_days = []\r\n",
        "for i in range(len(future_forecast)):\r\n",
        "  future_forecast_days.append((start_date + dt.timedelta(days=i)).strftime('%m/%d/%Y'))"
      ],
      "execution_count": null,
      "outputs": []
    },
    {
      "cell_type": "code",
      "metadata": {
        "id": "QZ34Zu5XzYlD"
      },
      "source": [
        "#For visualization\r\n",
        "latest_confirmed = confirmed_cases[dates[-1]]\r\n",
        "latest_deaths = deaths_reported[dates[-1]]\r\n",
        "latest_recovered = recovered_cases[dates[-1]]\r\n",
        "latest_confirmed, latest_deaths, latest_recovered"
      ],
      "execution_count": null,
      "outputs": []
    },
    {
      "cell_type": "code",
      "metadata": {
        "id": "LN7UHifyzu6e"
      },
      "source": [
        "#List of Unique Countries\r\n",
        "unique_countries = list(confirmed_cases['Country/Region'].unique())\r\n",
        "unique_countries"
      ],
      "execution_count": null,
      "outputs": []
    },
    {
      "cell_type": "code",
      "metadata": {
        "id": "YLwXo4Nh37im"
      },
      "source": [
        "#Calculate the total number of cases in each country\r\n",
        "country_confirmed_cases = []\r\n",
        "no_cases = []\r\n",
        "for i in unique_countries:\r\n",
        "  cases = latest_confirmed[confirmed_cases['Country/Region']==i].sum()\r\n",
        "  if cases > 0:\r\n",
        "    country_confirmed_cases.append(cases)\r\n",
        "  else:\r\n",
        "    no_cases.append(i)\r\n",
        "for i in no_cases:\r\n",
        "  unique_countries.remove(i)\r\n",
        "\r\n",
        "unique_countries = [k for k, v in sorted(zip(unique_countries, country_confirmed_cases), key=operator.itemgetter(1), reverse=True)]\r\n",
        "for i in range(len(unique_countries)):\r\n",
        "  country_confirmed_cases[i] = latest_confirmed[confirmed_cases['Country/Region']==unique_countries[i]].sum()"
      ],
      "execution_count": null,
      "outputs": []
    },
    {
      "cell_type": "code",
      "metadata": {
        "id": "u4MdLPZy45GL"
      },
      "source": [
        "print(\"Confirmed Cases per Country/Region:\")\r\n",
        "for i in range(len(unique_countries)):\r\n",
        "  print(f'{unique_countries[i]}: {country_confirmed_cases[i]} cases')"
      ],
      "execution_count": null,
      "outputs": []
    },
    {
      "cell_type": "code",
      "metadata": {
        "id": "-AOkxJMp5TB4"
      },
      "source": [
        "plt.figure(figsize=(32,200))\r\n",
        "holder = []\r\n",
        "for i in range(len(country_confirmed_cases)):\r\n",
        "  holder.append(country_confirmed_cases[i]/1000)\r\n",
        "plt.barh(unique_countries, holder)\r\n",
        "plt.title(\"Covid-19 Confirmed Cases in Countries\", size=20)\r\n",
        "plt.xlabel(\"Number of Cases in Thousands\")\r\n",
        "plt.show()"
      ],
      "execution_count": null,
      "outputs": []
    },
    {
      "cell_type": "code",
      "metadata": {
        "id": "GkWcTp1Z7UTq"
      },
      "source": [
        "#Visualization of all countries that are top 10\r\n",
        "visual_unique_countries = []\r\n",
        "visual_confirmed_cases = []\r\n",
        "others = np.sum(holder[10:])\r\n",
        "for i in range(len(holder[:10])):\r\n",
        "  visual_unique_countries.append(unique_countries[i])\r\n",
        "  visual_confirmed_cases.append(holder[i])\r\n",
        "\r\n",
        "visual_unique_countries.append(\"Others\")\r\n",
        "visual_confirmed_cases.append(others)"
      ],
      "execution_count": null,
      "outputs": []
    },
    {
      "cell_type": "code",
      "metadata": {
        "id": "Ifnbd2WV8rXg"
      },
      "source": [
        "plt.figure(figsize=(32,20))\r\n",
        "plt.barh(visual_unique_countries, visual_confirmed_cases)\r\n",
        "plt.title(\"Top 10 Countries on Covid Cases in Thousands\", size=20)\r\n",
        "plt.show()"
      ],
      "execution_count": null,
      "outputs": []
    },
    {
      "cell_type": "code",
      "metadata": {
        "id": "ckAK8nxN9WZT"
      },
      "source": [
        "#Pie chart of the above visualization\r\n",
        "\r\n",
        "c = random.choices(list(mcolors.CSS4_COLORS.values()), k = len(unique_countries))\r\n",
        "plt.figure(figsize=(10,10))\r\n",
        "plt.title(\"Covid-19 Cases in top 10 Countries\")\r\n",
        "plt.pie(visual_confirmed_cases, colors=c)\r\n",
        "plt.legend(visual_unique_countries, loc=\"best\")\r\n",
        "plt.show()"
      ],
      "execution_count": null,
      "outputs": []
    },
    {
      "cell_type": "code",
      "metadata": {
        "id": "xYVjGxUe-OzB"
      },
      "source": [
        "from sklearn.linear_model import LinearRegression\r\n",
        "X_train_confirmed, X_test_confirmed, y_train_confirmed, y_test_confirmed = train_test_split(days_since_start[100:], world_cases[100:], test_size=0.15, shuffle=False)\r\n",
        "linear_model = LinearRegression(normalize=True, fit_intercept=True)\r\n",
        "linear_model.fit(X_train_confirmed, y_train_confirmed)\r\n",
        "test_linear_prediction = linear_model.predict(X_test_confirmed)\r\n",
        "linear_prediction = linear_model.predict(future_forecast)\r\n",
        "print(\"MAE: \", mean_absolute_error(test_linear_prediction, y_test_confirmed))\r\n",
        "print(\"MSE: \", mean_squared_error(test_linear_prediction, y_test_confirmed))\r\n"
      ],
      "execution_count": null,
      "outputs": []
    },
    {
      "cell_type": "code",
      "metadata": {
        "id": "L4GcJJd6AMLV"
      },
      "source": [
        "plt.plot(y_test_confirmed)\r\n",
        "plt.plot(test_linear_prediction)"
      ],
      "execution_count": null,
      "outputs": []
    },
    {
      "cell_type": "code",
      "metadata": {
        "id": "MG6l7JdUAe72"
      },
      "source": [
        "plt.figure(figsize=(20,12))\r\n",
        "plt.plot(adjusted_days, world_cases)\r\n",
        "plt.plot(future_forecast, linear_prediction, linestyle=\"dashed\", color=\"orange\")\r\n",
        "plt.title(\"Number of Cases Over Time\", size=25)\r\n",
        "plt.xlabel(\"Days since 5/02/2020\", size=20)\r\n",
        "plt.ylabel(\"Number of Cases\", size=20)\r\n",
        "plt.legend(['Confirmed Cases', 'Linear Regression Predictions'])\r\n",
        "plt.xticks(size=15)\r\n",
        "plt.yticks(size=15)\r\n",
        "plt.show()"
      ],
      "execution_count": null,
      "outputs": []
    },
    {
      "cell_type": "code",
      "metadata": {
        "id": "JySQ6UajEfjw"
      },
      "source": [
        "#Linear Regression Prediction for the next 10 days\r\n",
        "print('Linear Regression Future Predictions: ')\r\n",
        "print(linear_prediction[-10:])"
      ],
      "execution_count": null,
      "outputs": []
    },
    {
      "cell_type": "code",
      "metadata": {
        "id": "7M6OwokfExYK"
      },
      "source": [
        "#Building the SVM Model\r\n",
        "kernel = ['poly', 'sigmond', 'rbf']\r\n",
        "c = [0.01, 0.1, 1, 10]\r\n",
        "gamma = [0.01, 0.1, 1]\r\n",
        "epsilon = [0.01, 0.1, 1]\r\n",
        "shrinking = [True, False]\r\n",
        "svm_grid = {'kernel': kernel, 'C': c, 'gamma': gamma, 'epsilon': epsilon, 'shrinking': shrinking}\r\n",
        "\r\n",
        "svm = SVR(cache_size = 7000)\r\n",
        "svm_search = RandomizedSearchCV(svm, svm_grid, scoring='neg_mean_squared_error', cv=3, return_train_score=True, n_jobs=-1, n_iter=10, verbose=1 )\r\n",
        "svm_search.fit(X_train_confirmed, y_train_confirmed)"
      ],
      "execution_count": null,
      "outputs": []
    },
    {
      "cell_type": "code",
      "metadata": {
        "id": "AGT-IGn5fUBw"
      },
      "source": [
        "svm_search.best_params_"
      ],
      "execution_count": null,
      "outputs": []
    },
    {
      "cell_type": "code",
      "metadata": {
        "id": "VXw2ZxG9fiE_"
      },
      "source": [
        "svm_confirmed = svm_search.best_estimator_\r\n",
        "svm_pred = svm_confirmed.predict(future_forecast)"
      ],
      "execution_count": null,
      "outputs": []
    },
    {
      "cell_type": "code",
      "metadata": {
        "id": "dHvTtZ0KgWJG"
      },
      "source": [
        "svm_confirmed, svm_pred"
      ],
      "execution_count": null,
      "outputs": []
    },
    {
      "cell_type": "code",
      "metadata": {
        "id": "1vblWTG6iIu5"
      },
      "source": [
        "svm_test_pred = svm_confirmed.predict(X_test_confirmed)\r\n",
        "plt.plot(svm_test_pred)\r\n",
        "plt.plot(y_test_confirmed)\r\n",
        "print(\"MAE: \", mean_absolute_error(svm_test_pred, y_test_confirmed))"
      ],
      "execution_count": null,
      "outputs": []
    },
    {
      "cell_type": "code",
      "metadata": {
        "id": "Na8h9Bowipk8"
      },
      "source": [
        "plt.figure(figsize=(20, 20))\r\n",
        "plt.plot(adjusted_dates, world_cases[100:])\r\n",
        "plt.plot(future_forecast, svm_pred, linestyle='dashed')\r\n",
        "plt.plot('Number of Cases Over Time', size=30)\r\n",
        "plt.xlabel('Days Since 5/02/2020', size=25)\r\n",
        "plt.ylabel('Number of Cases', size=25)\r\n",
        "plt.legend(['Confirmed Cases', 'Predicted Cases'])\r\n",
        "plt.xticks(size=15)\r\n",
        "plt.yticks(size=15)"
      ],
      "execution_count": null,
      "outputs": []
    }
  ]
}